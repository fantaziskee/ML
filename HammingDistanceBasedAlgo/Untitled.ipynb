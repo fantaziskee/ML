{
 "cells": [
  {
   "cell_type": "code",
   "execution_count": 29,
   "metadata": {},
   "outputs": [
    {
     "name": "stdout",
     "output_type": "stream",
     "text": [
      "Path to img. ../testS.jpg\n",
      "Done\n"
     ]
    }
   ],
   "source": [
    "import os\n",
    "import PIL.Image\n",
    "import string\n",
    "import numpy as np\n",
    "\n",
    "pathToImg = input(\"Path to img. \")\n",
    "if os.path.exists(pathToImg):\n",
    "    im = PIL.Image.open(pathToImg)\n",
    "    px = im.load()\n",
    "    width, height = im.size\n",
    "    im1 = PIL.Image.new(\"RGB\", (width, height))\n",
    "    px1 = im1.load()\n",
    "    Contrast = lambda p: (0, 0, 0) if (p < 160) else (255, 255, 255)\n",
    "    for _w in range(width):\n",
    "        for _h in range(height):\n",
    "            px1[_w, _h] = Contrast(px[_w, _h])\n",
    "    im1.save(\"./testR.bmp\")\n",
    "    print(\"Done\")\n",
    "else:\n",
    "    print(\"Not exist!\")"
   ]
  },
  {
   "cell_type": "code",
   "execution_count": 151,
   "metadata": {},
   "outputs": [
    {
     "name": "stdout",
     "output_type": "stream",
     "text": [
      "Path to img. test.bmp\n"
     ]
    }
   ],
   "source": [
    "import os\n",
    "import PIL.Image\n",
    "import string\n",
    "import numpy as np\n",
    "\n",
    "def CutLet(a, d, x, y, k):\n",
    "    if a[x][y] == -1:\n",
    "        a[x][y] = k\n",
    "        d[k] += [(x, y)]\n",
    "        if x < len(a) - 1:\n",
    "            CutLet(a, d, x + 1, y, k)\n",
    "            \n",
    "        if x < len(a) - 1 and y < len(a[0]) - 1: \n",
    "            CutLet(a, d, x + 1, y + 1, k)\n",
    "            \n",
    "        if  y < len(a[0]) - 1:\n",
    "            CutLet(a, d, x, y + 1, k)\n",
    "            \n",
    "        if x > 0 and y < len(a[0]) - 1:\n",
    "            CutLet(a, d, x - 1, y + 1, k)\n",
    "            \n",
    "        if x > 0:\n",
    "            CutLet(a, d, x - 1, y, k)\n",
    "        \n",
    "        if x > 0 and y > 0:\n",
    "            CutLet(a, d, x - 1, y - 1, k)\n",
    "            \n",
    "        if  y > 0:\n",
    "            CutLet(a, d, x, y - 1, k)\n",
    "            \n",
    "        if x < len(a) - 1 and y > 0: \n",
    "            CutLet(a, d, x + 1, y - 1, k)\n",
    "\n",
    "\n",
    "pathToImg = input(\"Path to img. \")\n",
    "if os.path.exists(pathToImg):\n",
    "    im = PIL.Image.open(pathToImg)\n",
    "    px = im.load()\n",
    "    width, height = im.size\n",
    "    arr = np.zeros((height, width))\n",
    "    Filtr = lambda p: -1 if (p < 127) else 0\n",
    "    for _w in range(width):\n",
    "        for _h in range(height):\n",
    "            arr[_h][_w] = Filtr(px[_w, _h][0])\n",
    "            \n",
    "    _k = 0\n",
    "    _dict = {}\n",
    "    for _x in range(len(arr)):\n",
    "        for _y in range(len(arr[0])):\n",
    "            if arr[_x][_y] == -1:\n",
    "                print\n",
    "                _k += 1\n",
    "                _dict[_k] = []\n",
    "                CutLet(arr, _dict, _x, _y, _k)           \n",
    "    \n",
    "    for _numPoint in range(1, _k + 1):\n",
    "        minx = 100000\n",
    "        maxx = 0\n",
    "        miny = 100000\n",
    "        maxy = 0\n",
    "        points = _dict[_numPoint]\n",
    "        for _p in points:\n",
    "            minx = min(minx, _p[0])\n",
    "            maxx = max(maxx, _p[0])\n",
    "            miny = min(miny, _p[1])\n",
    "            maxy = max(maxy, _p[1])\n",
    "        #print(points)\n",
    "        tIm = PIL.Image.new(\"RGB\", (maxy - miny + 1, maxx - minx + 1))\n",
    "        tPx = tIm.load()\n",
    "        for _p in points:\n",
    "         #   print(_p[1] - miny, _p[0] - minx, minx, maxx, miny, maxy)\n",
    "            tPx[_p[1] - miny, _p[0] - minx] = (255, 255, 255)\n",
    "        tIm.save(\"./Pics/\" + str(_numPoint) + \".bmp\")"
   ]
  },
  {
   "cell_type": "code",
   "execution_count": null,
   "metadata": {},
   "outputs": [],
   "source": [
    "imO = PIL.Image.new(\"RGB\", (len(arr[0]), len(arr)))\n",
    "    pxO = imO.load()\n",
    "    for _x in range(len(arr)):\n",
    "        for _y in range(len(arr[0])):\n",
    "            pxO[_y, _x] = (int(255 * arr[_x][_y] / _k), ) * 3\n",
    "\n",
    "    imO.save(\"Bits.bmp\")"
   ]
  }
 ],
 "metadata": {
  "kernelspec": {
   "display_name": "Python 3",
   "language": "python",
   "name": "python3"
  },
  "language_info": {
   "codemirror_mode": {
    "name": "ipython",
    "version": 3
   },
   "file_extension": ".py",
   "mimetype": "text/x-python",
   "name": "python",
   "nbconvert_exporter": "python",
   "pygments_lexer": "ipython3",
   "version": "3.7.4"
  }
 },
 "nbformat": 4,
 "nbformat_minor": 2
}
